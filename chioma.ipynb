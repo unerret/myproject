{
  "nbformat": 4,
  "nbformat_minor": 0,
  "metadata": {
    "colab": {
      "provenance": [],
      "include_colab_link": true
    },
    "kernelspec": {
      "name": "python3",
      "display_name": "Python 3"
    },
    "language_info": {
      "name": "python"
    }
  },
  "cells": [
    {
      "cell_type": "markdown",
      "metadata": {
        "id": "view-in-github",
        "colab_type": "text"
      },
      "source": [
        "<a href=\"https://colab.research.google.com/github/unerret/myproject/blob/main/chioma.ipynb\" target=\"_parent\"><img src=\"https://colab.research.google.com/assets/colab-badge.svg\" alt=\"Open In Colab\"/></a>"
      ]
    },
    {
      "cell_type": "code",
      "source": [],
      "metadata": {
        "id": "4uFHi1GGtpCW"
      },
      "execution_count": null,
      "outputs": []
    },
    {
      "cell_type": "markdown",
      "source": [],
      "metadata": {
        "id": "GLvXkeecq5Tv"
      }
    },
    {
      "cell_type": "code",
      "execution_count": null,
      "metadata": {
        "colab": {
          "base_uri": "https://localhost:8080/",
          "height": 245
        },
        "id": "A_kUmgCEWKjF",
        "outputId": "fea59309-7b0b-4737-ebc5-6452aeed1442"
      },
      "outputs": [
        {
          "output_type": "stream",
          "name": "stdout",
          "text": [
            "True\n",
            "1\n"
          ]
        },
        {
          "output_type": "error",
          "ename": "NameError",
          "evalue": "name 'INTEGER' is not defined",
          "traceback": [
            "\u001b[0;31m---------------------------------------------------------------------------\u001b[0m",
            "\u001b[0;31mNameError\u001b[0m                                 Traceback (most recent call last)",
            "\u001b[0;32m<ipython-input-10-d0b221d857e0>\u001b[0m in \u001b[0;36m<cell line: 17>\u001b[0;34m()\u001b[0m\n\u001b[1;32m     15\u001b[0m \u001b[0;34m\u001b[0m\u001b[0m\n\u001b[1;32m     16\u001b[0m \u001b[0;34m\u001b[0m\u001b[0m\n\u001b[0;32m---> 17\u001b[0;31m \u001b[0mINTEGER\u001b[0m\u001b[0;34m\u001b[0m\u001b[0;34m\u001b[0m\u001b[0m\n\u001b[0m\u001b[1;32m     18\u001b[0m \u001b[0mage\u001b[0m \u001b[0;34m=\u001b[0m \u001b[0;36m25\u001b[0m\u001b[0;34m\u001b[0m\u001b[0;34m\u001b[0m\u001b[0m\n\u001b[1;32m     19\u001b[0m \u001b[0myear\u001b[0m \u001b[0;34m=\u001b[0m \u001b[0;36m2024\u001b[0m\u001b[0;34m\u001b[0m\u001b[0;34m\u001b[0m\u001b[0m\n",
            "\u001b[0;31mNameError\u001b[0m: name 'INTEGER' is not defined"
          ]
        }
      ],
      "source": [
        "school =20\n",
        "student =30\n",
        "pineapple =20.5\n",
        "chicken =30.5\n",
        "whatisthat =True\n",
        "sentence1 = \"calabar is in NIGERIA\"\n",
        "Isthattheanswer =False\n",
        "sentence2 = 'female wear skirts only'\n",
        "follow2 =\"\"\"\n",
        "         where are you going?\n",
        "          I am going to LAGOS.\n",
        "          \"\"\"\n",
        "print(whatisthat)\n",
        "print(int(whatisthat))\n",
        "\n",
        "\n",
        "#INTEGER\n",
        "age = 25\n",
        "year = 2024\n",
        "count = 100\n",
        "height_cm = 180\n",
        "weight_kg = 75\n",
        "population = 500000\n",
        "score = 95\n",
        "days_in_week = 7\n",
        "hours_in_day = 24\n",
        "number_of_items = 50\n",
        "print(age)\n",
        "print(height_cm)\n",
        "print(float(weight_kg))\n",
        "print(bool(score))\n",
        "\n",
        "#FLOAT\n",
        "temperature = 23.5\n",
        "price = 199.99\n",
        "height = 175.8\n",
        "weight = 68.2\n",
        "interest_rate = 3.75\n",
        "distance = 482.6\n",
        "speed = 88.4\n",
        "volume = 50.3\n",
        "time_taken = 9.87\n",
        "pressure = 1013.25\n",
        "print(int(speed))\n",
        "print(volume)\n",
        "print(str(price))\n",
        "print(str(1013.25))\n",
        "\n",
        "#BOOLEAN\n",
        "is_student = True\n",
        "is_logged_in = False\n",
        "has_passed = True\n",
        "is_sunny = False\n",
        "is_admin = True\n",
        "is_member = False\n",
        "is_active = True\n",
        "has_discount = False\n",
        "is_complete = True\n",
        "is_visible = False\n",
        "print(int(is_student))\n",
        "print(bool(has_passed))\n",
        "print(is_sunny)\n",
        "print(float(is_active))\n",
        "\n",
        "#STRING\n",
        "name = \"chioma\"\n",
        "city = \"Lagos\"\n",
        "country = \"Nigeria\"\n",
        "email = \"unerret2013@gmail.com\"\n",
        "phone_number = \"+2348023199720\"\n",
        "occupation = \"Fashion Designer\"\n",
        "brand_name = \"Un Erret World\"\n",
        "colour = \"Purple\"\n",
        "language = \"English\"\n",
        "website = \"www.unerretworld.com\"\n",
        "\n",
        "\n",
        "print(bool(email))\n",
        "print(colour)\n",
        "print(str(brand_name))\n",
        "\n",
        "#arithmetric\n",
        "a = 16\n",
        "b = 5\n",
        "print(\"Addition:\",a+b)\n",
        "print(a+b)\n",
        "print(a-b)\n",
        "print(a*b)\n",
        "print(a/b)\n",
        "print(a%b)\n",
        "print(a**b)\n",
        "\n",
        "\n",
        "\n"
      ]
    },
    {
      "cell_type": "code",
      "source": [],
      "metadata": {
        "id": "s0bFziAB5aNJ"
      },
      "execution_count": null,
      "outputs": []
    },
    {
      "cell_type": "code",
      "source": [
        "#CODES TO STORE 10 VALUES OF LIST AND PERFORM ALL LIST EXTRACTION ON THEM  ASSIGNMENT 05/09/2024\n",
        "\n",
        "jobs=[\"engineering\",\"data_analyst\",\"nurse\",\"medical_doctor\",\"lawyer\",\"teacher\",\"cleaner\",\"gateman\",\"hairstylist\",\"fashion_designer\"]\n",
        "print(jobs)\n",
        "print(jobs[5])\n",
        "print(jobs[1:4])\n",
        "print(jobs[-1])\n",
        "print(jobs[-6:-1])\n",
        "jobs.append(\"accountant\")\n",
        "print(jobs)\n",
        "jobs.insert(3,\"nanny\")\n",
        "print(jobs)\n",
        "jobs[2:4]=[\"cater\",\"security\",\"decorator\"]\n",
        "print(jobs)\n",
        "jobs[5]=[\"barman\",\"printer\",\"attendant\",\"serviceman\"]\n",
        "print(jobs)\n",
        "jobs.pop(5)\n",
        "print(jobs)\n",
        "jobs.remove(\"data_analyst\")\n",
        "print(jobs)\n",
        "jobs[1]=\"data_analyst\"\n",
        "print(jobs)\n",
        "\n",
        "\n",
        "\n",
        "\n",
        "\n",
        "\n"
      ],
      "metadata": {
        "colab": {
          "base_uri": "https://localhost:8080/"
        },
        "id": "__hyw_Kz2WI3",
        "outputId": "e44db753-6e53-4a7a-a754-cee3b0b16ded"
      },
      "execution_count": null,
      "outputs": [
        {
          "output_type": "stream",
          "name": "stdout",
          "text": [
            "['engineering', 'data_analyst', 'nurse', 'medical_doctor', 'lawyer', 'teacher', 'cleaner', 'gateman', 'hairstylist', 'fashion_designer']\n",
            "teacher\n",
            "['data_analyst', 'nurse', 'medical_doctor']\n",
            "fashion_designer\n",
            "['lawyer', 'teacher', 'cleaner', 'gateman', 'hairstylist']\n",
            "['engineering', 'data_analyst', 'nurse', 'medical_doctor', 'lawyer', 'teacher', 'cleaner', 'gateman', 'hairstylist', 'fashion_designer', 'accountant']\n",
            "['engineering', 'data_analyst', 'nurse', 'nanny', 'medical_doctor', 'lawyer', 'teacher', 'cleaner', 'gateman', 'hairstylist', 'fashion_designer', 'accountant']\n",
            "['engineering', 'data_analyst', 'cater', 'security', 'decorator', 'medical_doctor', 'lawyer', 'teacher', 'cleaner', 'gateman', 'hairstylist', 'fashion_designer', 'accountant']\n",
            "['engineering', 'data_analyst', 'cater', 'security', 'decorator', ['barman', 'printer', 'attendant', 'serviceman'], 'lawyer', 'teacher', 'cleaner', 'gateman', 'hairstylist', 'fashion_designer', 'accountant']\n",
            "['engineering', 'data_analyst', 'cater', 'security', 'decorator', 'lawyer', 'teacher', 'cleaner', 'gateman', 'hairstylist', 'fashion_designer', 'accountant']\n",
            "['engineering', 'cater', 'security', 'decorator', 'lawyer', 'teacher', 'cleaner', 'gateman', 'hairstylist', 'fashion_designer', 'accountant']\n",
            "['engineering', 'data_analyst', 'security', 'decorator', 'lawyer', 'teacher', 'cleaner', 'gateman', 'hairstylist', 'fashion_designer', 'accountant']\n"
          ]
        }
      ]
    },
    {
      "cell_type": "code",
      "source": [],
      "metadata": {
        "id": "qYHtMCjLgBRH"
      },
      "execution_count": null,
      "outputs": []
    },
    {
      "cell_type": "code",
      "source": [
        "names=[\"amaka\",\"chioma\",\"vivan\",\"lilan\",\"kene\",\"kenny\"]\n",
        "print(names[0:3])\n",
        "print(names[2:7])\n",
        "names.append(\"tolu\")\n",
        "print(names)\n",
        "names.insert(2,\"biola\")\n",
        "print(names)\n",
        "names[1:3]=[\"bebe\",\"cece\"]\n",
        "print(names)\n",
        "names.pop(3)\n",
        "names.remove(\"lilan\")\n",
        "print(names)\n",
        "names[2]=\"kele\"\n",
        "print(names)\n"
      ],
      "metadata": {
        "colab": {
          "base_uri": "https://localhost:8080/"
        },
        "id": "Gnptqd_qgY-J",
        "outputId": "e82778df-9f16-489a-cc76-aac7d93ace95"
      },
      "execution_count": null,
      "outputs": [
        {
          "output_type": "stream",
          "name": "stdout",
          "text": [
            "['amaka', 'chioma', 'vivan']\n",
            "['vivan', 'lilan', 'kene', 'kenny']\n",
            "['amaka', 'chioma', 'vivan', 'lilan', 'kene', 'kenny', 'tolu']\n",
            "['amaka', 'chioma', 'biola', 'vivan', 'lilan', 'kene', 'kenny', 'tolu']\n",
            "['amaka', 'bebe', 'cece', 'vivan', 'lilan', 'kene', 'kenny', 'tolu']\n",
            "['amaka', 'bebe', 'cece', 'kene', 'kenny', 'tolu']\n"
          ]
        }
      ]
    }
  ]
}