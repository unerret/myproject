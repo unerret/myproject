{
  "nbformat": 4,
  "nbformat_minor": 0,
  "metadata": {
    "colab": {
      "provenance": [],
      "include_colab_link": true
    },
    "kernelspec": {
      "name": "python3",
      "display_name": "Python 3"
    },
    "language_info": {
      "name": "python"
    }
  },
  "cells": [
    {
      "cell_type": "markdown",
      "metadata": {
        "id": "view-in-github",
        "colab_type": "text"
      },
      "source": [
        "<a href=\"https://colab.research.google.com/github/unerret/myproject/blob/main/introduction_to_comparision_operators.ipynb\" target=\"_parent\"><img src=\"https://colab.research.google.com/assets/colab-badge.svg\" alt=\"Open In Colab\"/></a>"
      ]
    },
    {
      "cell_type": "markdown",
      "source": [
        "# Introduction to comparision operators in python"
      ],
      "metadata": {
        "id": "RT9_MQ80d1Yi"
      }
    },
    {
      "cell_type": "code",
      "source": [],
      "metadata": {
        "id": "pkO0ZHSP1VR-"
      },
      "execution_count": null,
      "outputs": []
    },
    {
      "cell_type": "code",
      "source": [],
      "metadata": {
        "id": "LfwhsiJ4EKBc"
      },
      "execution_count": null,
      "outputs": []
    },
    {
      "cell_type": "code",
      "execution_count": null,
      "metadata": {
        "colab": {
          "base_uri": "https://localhost:8080/"
        },
        "id": "YpNVqnDGdOGW",
        "outputId": "1040deef-75f6-4659-ddd1-36b626800293"
      },
      "outputs": [
        {
          "output_type": "stream",
          "name": "stdout",
          "text": [
            "False\n"
          ]
        }
      ],
      "source": [
        "a= 20\n",
        "b=30\n",
        "# greater\n",
        "print(a > b)"
      ]
    },
    {
      "cell_type": "markdown",
      "source": [],
      "metadata": {
        "id": "N7K4RC1Fgm3K"
      }
    },
    {
      "cell_type": "markdown",
      "source": [],
      "metadata": {
        "id": "8ivl_xTZgnWT"
      }
    },
    {
      "cell_type": "code",
      "source": [
        "print(a < b)"
      ],
      "metadata": {
        "colab": {
          "base_uri": "https://localhost:8080/"
        },
        "id": "c-QhexaufnA5",
        "outputId": "dfa5eca6-56f6-45a6-8f7c-79946996e030"
      },
      "execution_count": null,
      "outputs": [
        {
          "output_type": "stream",
          "name": "stdout",
          "text": [
            "True\n"
          ]
        }
      ]
    },
    {
      "cell_type": "code",
      "source": [
        "print(a <= b)"
      ],
      "metadata": {
        "colab": {
          "base_uri": "https://localhost:8080/"
        },
        "id": "1ex3hft3f2Er",
        "outputId": "00a37e09-ade4-4474-c7cb-d8cd640d51d6"
      },
      "execution_count": null,
      "outputs": [
        {
          "output_type": "stream",
          "name": "stdout",
          "text": [
            "True\n"
          ]
        }
      ]
    },
    {
      "cell_type": "code",
      "source": [
        "print( a >= b)"
      ],
      "metadata": {
        "colab": {
          "base_uri": "https://localhost:8080/"
        },
        "id": "m2qE-ORzgSmC",
        "outputId": "fa7454d4-87f9-4fa7-e0a7-eab35cacb80b"
      },
      "execution_count": null,
      "outputs": [
        {
          "output_type": "stream",
          "name": "stdout",
          "text": [
            "False\n"
          ]
        }
      ]
    },
    {
      "cell_type": "code",
      "source": [
        "print(a == b)"
      ],
      "metadata": {
        "colab": {
          "base_uri": "https://localhost:8080/"
        },
        "id": "wr8zLP5NgmBc",
        "outputId": "3f73c6e6-e23f-4628-eb28-d1990897b224"
      },
      "execution_count": null,
      "outputs": [
        {
          "output_type": "stream",
          "name": "stdout",
          "text": [
            "False\n"
          ]
        }
      ]
    },
    {
      "cell_type": "code",
      "source": [
        "# in opertor\n",
        "food = [\"rice\",\"beans\",\"plantain\",\"amala\"]\n",
        "\n",
        "print(\"rice\" in food)\n",
        "print(\"eba\" in food)"
      ],
      "metadata": {
        "colab": {
          "base_uri": "https://localhost:8080/"
        },
        "id": "GMW_B4oUhK7S",
        "outputId": "3d0de22b-c4ab-46c8-e4db-761214861848"
      },
      "execution_count": null,
      "outputs": [
        {
          "output_type": "stream",
          "name": "stdout",
          "text": [
            "True\n",
            "False\n"
          ]
        }
      ]
    },
    {
      "cell_type": "code",
      "source": [
        "# not in operator\n",
        "food = [\"rice\",\"beans\",\"plantain\",\"amala\"]\n",
        "print(\"beans\" not in food)\n",
        "print(\"akara\" not in food)"
      ],
      "metadata": {
        "colab": {
          "base_uri": "https://localhost:8080/"
        },
        "id": "j2kWhGiuh2pT",
        "outputId": "1d629f34-89ca-4b5a-e3f6-7986d7ca860b"
      },
      "execution_count": null,
      "outputs": [
        {
          "output_type": "stream",
          "name": "stdout",
          "text": [
            "False\n",
            "True\n"
          ]
        }
      ]
    },
    {
      "cell_type": "code",
      "source": [
        "# is operator\n",
        "bb = 20\n",
        "cc = 30\n",
        "dd = 30\n",
        "print(cc is dd)"
      ],
      "metadata": {
        "colab": {
          "base_uri": "https://localhost:8080/"
        },
        "id": "s8BJusKliqkC",
        "outputId": "fafcb1aa-c065-47a7-9c49-6c5ad1683e9d"
      },
      "execution_count": null,
      "outputs": [
        {
          "output_type": "stream",
          "name": "stdout",
          "text": [
            "True\n"
          ]
        }
      ]
    },
    {
      "cell_type": "code",
      "source": [
        "cc = \"30\"\n",
        "dd = 30\n",
        "print(cc is dd)"
      ],
      "metadata": {
        "colab": {
          "base_uri": "https://localhost:8080/"
        },
        "id": "49P-WRY2jLzj",
        "outputId": "f55cba5d-fcce-45ab-ae3b-ebc023ebd0f2"
      },
      "execution_count": null,
      "outputs": [
        {
          "output_type": "stream",
          "name": "stdout",
          "text": [
            "False\n"
          ]
        }
      ]
    },
    {
      "cell_type": "code",
      "source": [
        "# is not opertor\n",
        "aa = 20\n",
        "bb = \"This is me\"\n",
        "print(aa is not bb)"
      ],
      "metadata": {
        "colab": {
          "base_uri": "https://localhost:8080/"
        },
        "id": "CNi8jDtWjsKb",
        "outputId": "968860a7-fc0a-4955-818b-036930dc947a"
      },
      "execution_count": null,
      "outputs": [
        {
          "output_type": "stream",
          "name": "stdout",
          "text": [
            "True\n"
          ]
        }
      ]
    },
    {
      "cell_type": "markdown",
      "source": [
        "# LOGICAL OPERATORS"
      ],
      "metadata": {
        "id": "Kqvwl9iPnyHk"
      }
    },
    {
      "cell_type": "markdown",
      "source": [],
      "metadata": {
        "id": "q4hdB4vjtUzW"
      }
    },
    {
      "cell_type": "code",
      "source": [
        "# and logical operator\n",
        "p = 20 < 10\n",
        "q = 30 > 15\n",
        "\n",
        "print(p and q)"
      ],
      "metadata": {
        "colab": {
          "base_uri": "https://localhost:8080/"
        },
        "id": "OdHlD1kSn2jS",
        "outputId": "e51e30c6-6aec-4ba1-883b-c9276c37c427"
      },
      "execution_count": null,
      "outputs": [
        {
          "output_type": "stream",
          "name": "stdout",
          "text": [
            "False\n"
          ]
        }
      ]
    },
    {
      "cell_type": "code",
      "source": [
        "pp = 20\n",
        "qq = 30\n",
        "print((pp > 10) and (qq == 30))"
      ],
      "metadata": {
        "colab": {
          "base_uri": "https://localhost:8080/"
        },
        "id": "8WFVZaqlqJcs",
        "outputId": "5a4fbaaf-991e-4857-c77d-2903e2622eb6"
      },
      "execution_count": null,
      "outputs": [
        {
          "output_type": "stream",
          "name": "stdout",
          "text": [
            "True\n"
          ]
        }
      ]
    },
    {
      "cell_type": "code",
      "source": [
        "# or statement\n",
        "aa = 20 > 10\n",
        "bb = 12 > 30\n",
        "print(aa or bb)"
      ],
      "metadata": {
        "colab": {
          "base_uri": "https://localhost:8080/"
        },
        "id": "zcWj6spzrdsN",
        "outputId": "33cea9bd-a287-4d03-97ef-f37ac3f03101"
      },
      "execution_count": null,
      "outputs": [
        {
          "output_type": "stream",
          "name": "stdout",
          "text": [
            "True\n"
          ]
        }
      ]
    },
    {
      "cell_type": "code",
      "source": [
        "# not statement\n",
        "aa = 20 > 10\n",
        "print( not aa)"
      ],
      "metadata": {
        "colab": {
          "base_uri": "https://localhost:8080/"
        },
        "id": "6M8SnpIcr7Ln",
        "outputId": "1e5f7577-3c95-427a-ef83-04e2a89170ac"
      },
      "execution_count": null,
      "outputs": [
        {
          "output_type": "stream",
          "name": "stdout",
          "text": [
            "False\n"
          ]
        }
      ]
    },
    {
      "cell_type": "markdown",
      "source": [
        "# WORKING WITH INPUT IN PYTHON"
      ],
      "metadata": {
        "id": "U7-WB6uptZJX"
      }
    },
    {
      "cell_type": "code",
      "source": [
        "input(\"What is your name? \")"
      ],
      "metadata": {
        "colab": {
          "base_uri": "https://localhost:8080/",
          "height": 53
        },
        "id": "oxgOH6FmtdTj",
        "outputId": "163e6094-3959-4f1e-e6e7-ed16f3e639d4"
      },
      "execution_count": null,
      "outputs": [
        {
          "name": "stdout",
          "output_type": "stream",
          "text": [
            "What is your name? John\n"
          ]
        },
        {
          "output_type": "execute_result",
          "data": {
            "text/plain": [
              "'John'"
            ],
            "application/vnd.google.colaboratory.intrinsic+json": {
              "type": "string"
            }
          },
          "metadata": {},
          "execution_count": 19
        }
      ]
    },
    {
      "cell_type": "code",
      "source": [
        "pp = input(\"What is bmi status?\")\n",
        "print(pp)"
      ],
      "metadata": {
        "colab": {
          "base_uri": "https://localhost:8080/"
        },
        "id": "oxSERXFxtuT2",
        "outputId": "e705005f-2335-4e6f-ddd9-61bdd0668b72"
      },
      "execution_count": null,
      "outputs": [
        {
          "output_type": "stream",
          "name": "stdout",
          "text": [
            "What is bmi status?healthy\n",
            "healthy\n"
          ]
        }
      ]
    },
    {
      "cell_type": "code",
      "source": [
        "first = float(input(\"Enter your first number\"))\n",
        "second = float(input(\"Enter your second number\"))\n",
        "\n",
        "print(first+second)\n"
      ],
      "metadata": {
        "colab": {
          "base_uri": "https://localhost:8080/"
        },
        "id": "TyOflzQtuSa2",
        "outputId": "a3289120-3305-40a6-b06b-afea88e9731d"
      },
      "execution_count": null,
      "outputs": [
        {
          "output_type": "stream",
          "name": "stdout",
          "text": [
            "Enter your first number30\n",
            "Enter your second number40\n",
            "70.0\n"
          ]
        }
      ]
    },
    {
      "cell_type": "code",
      "source": [
        "first = float(input(\"Enter your first number\"))\n",
        "second = float(input(\"Enter your second number\"))\n",
        "sum = first+second\n",
        "print(sum)"
      ],
      "metadata": {
        "colab": {
          "base_uri": "https://localhost:8080/"
        },
        "id": "2T3HX0PjvHYW",
        "outputId": "d76e6596-5df7-407a-83ac-078fffef1d45"
      },
      "execution_count": null,
      "outputs": [
        {
          "output_type": "stream",
          "name": "stdout",
          "text": [
            "Enter your first number50\n",
            "Enter your second number90\n",
            "140.0\n"
          ]
        }
      ]
    },
    {
      "cell_type": "markdown",
      "source": [
        "# ASSIGNMENT"
      ],
      "metadata": {
        "id": "iPBsqKmhxSDw"
      }
    },
    {
      "cell_type": "markdown",
      "source": [
        "\n",
        "\n",
        "*   CREATE A BMI CALCULATOR\n",
        "*   CREATE A SIMPLE ARITHMETIC CALCULATOR\n",
        "\n",
        "\n",
        "*   PICK ANY 10 MATHEMATICS FORMULARS FOR CODE WRITEUP\n",
        "*   PERFORM ANY OPERATIONS USING INPUT\n",
        "\n",
        "\n",
        "\n"
      ],
      "metadata": {
        "id": "VcGuSkKTxq1v"
      }
    },
    {
      "cell_type": "code",
      "source": [],
      "metadata": {
        "id": "Euv0urWZxVtM"
      },
      "execution_count": null,
      "outputs": []
    },
    {
      "cell_type": "markdown",
      "source": [],
      "metadata": {
        "id": "CZVZrWmaH1Nr"
      }
    },
    {
      "cell_type": "code",
      "source": [],
      "metadata": {
        "id": "A6CQpCOjIBDB"
      },
      "execution_count": null,
      "outputs": []
    }
  ]
}