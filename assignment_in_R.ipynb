{
  "nbformat": 4,
  "nbformat_minor": 0,
  "metadata": {
    "colab": {
      "provenance": [],
      "include_colab_link": true
    },
    "kernelspec": {
      "name": "ir",
      "display_name": "R"
    },
    "language_info": {
      "name": "R"
    }
  },
  "cells": [
    {
      "cell_type": "markdown",
      "metadata": {
        "id": "view-in-github",
        "colab_type": "text"
      },
      "source": [
        "<a href=\"https://colab.research.google.com/github/unerret/myproject/blob/main/assignment_in_R.ipynb\" target=\"_parent\"><img src=\"https://colab.research.google.com/assets/colab-badge.svg\" alt=\"Open In Colab\"/></a>"
      ]
    },
    {
      "cell_type": "code",
      "execution_count": null,
      "metadata": {
        "colab": {
          "base_uri": "https://localhost:8080/"
        },
        "id": "gj-nTsbZsOjs",
        "outputId": "775198a7-89f2-483b-df73-509f05ea4a28"
      },
      "outputs": [
        {
          "output_type": "stream",
          "name": "stdout",
          "text": [
            "[1] -0.4188612\n",
            "[1] -3.581139\n"
          ]
        }
      ],
      "source": [
        "#assignment 30 mathematical formular  using R language\n",
        "#1 quadratic formular\n",
        "a<- 2\n",
        "b<- 8\n",
        "c<- 3\n",
        "x1<-(-b+((b^2-4*a*c)^0.5))/(2*a)\n",
        "x2<-(-b-((b^2-4*a*c)^0.5))/(2*a)\n",
        "print (x1)\n",
        "print (x2)\n",
        "\n"
      ]
    },
    {
      "cell_type": "code",
      "source": [
        "#2 slope of a line\n",
        "x1 <- 1\n",
        "x2 <- 2\n",
        "y1 <- 4\n",
        "y2 <- 6\n",
        "slope <- (y2 - y1)/(x2 - x1)\n",
        "print (slope)"
      ],
      "metadata": {
        "colab": {
          "base_uri": "https://localhost:8080/"
        },
        "id": "hihxIVgR0zun",
        "outputId": "d40ea8f1-de02-4786-efdd-c8b855b87304"
      },
      "execution_count": null,
      "outputs": [
        {
          "output_type": "stream",
          "name": "stdout",
          "text": [
            "[1] 2\n"
          ]
        }
      ]
    },
    {
      "cell_type": "code",
      "source": [
        "#3 Arithemetric progression\n",
        "a <- 1 #first term\n",
        "d <- 2 #commondifference\n",
        "n <- 10 #number of terms\n",
        "sum_AP<-(n/2)*(2*a+(n-1)*d)\n",
        "print (sum_AP)"
      ],
      "metadata": {
        "colab": {
          "base_uri": "https://localhost:8080/"
        },
        "id": "C6MHjHCP10ul",
        "outputId": "28733f89-b59c-44fc-d6bd-b36caf59d3db"
      },
      "execution_count": null,
      "outputs": [
        {
          "output_type": "stream",
          "name": "stdout",
          "text": [
            "[1] 100\n"
          ]
        }
      ]
    },
    {
      "cell_type": "code",
      "source": [
        "#4 Geometric progression\n",
        "a <- 2 #first number\n",
        "r <- 3 #common ratio\n",
        "n <- 5 #number of terms\n",
        "sum_GP <- a*(1-r^n)/(1-r)\n",
        "print (sum_GP)"
      ],
      "metadata": {
        "colab": {
          "base_uri": "https://localhost:8080/"
        },
        "id": "rhx5Rv6x1_rz",
        "outputId": "dd92b8a5-f987-4612-c512-a2924cc1c3a3"
      },
      "execution_count": null,
      "outputs": [
        {
          "output_type": "stream",
          "name": "stdout",
          "text": [
            "[1] 242\n"
          ]
        }
      ]
    },
    {
      "cell_type": "code",
      "source": [
        "#5 circumference of a circle\n",
        "r <-7 #radius\n",
        "c <- 2* pi*r #circumference\n",
        "print (c)"
      ],
      "metadata": {
        "colab": {
          "base_uri": "https://localhost:8080/"
        },
        "id": "FkyNz1D34OQq",
        "outputId": "0ae127c4-b314-4dbb-e863-53cc77085a20"
      },
      "execution_count": null,
      "outputs": [
        {
          "output_type": "stream",
          "name": "stdout",
          "text": [
            "[1] 43.9823\n"
          ]
        }
      ]
    },
    {
      "cell_type": "code",
      "source": [
        "#6 area of circle\n",
        "r <- 8\n",
        "area <-pi*r^2\n",
        "print (area)"
      ],
      "metadata": {
        "colab": {
          "base_uri": "https://localhost:8080/"
        },
        "id": "UWN2OieP5Tai",
        "outputId": "4e9b13e8-ebef-44ed-954a-a4b8536c9ea2"
      },
      "execution_count": null,
      "outputs": [
        {
          "output_type": "stream",
          "name": "stdout",
          "text": [
            "[1] 201.0619\n"
          ]
        }
      ]
    },
    {
      "cell_type": "code",
      "source": [
        "#7 surface of a sphere\n",
        "r <-7\n",
        "SF <- 4*pi*r^2\n",
        "print(SF)\n"
      ],
      "metadata": {
        "colab": {
          "base_uri": "https://localhost:8080/"
        },
        "id": "9pPkn8A955Ve",
        "outputId": "2f7c67f1-cabd-4454-e974-8efd67eb8439"
      },
      "execution_count": null,
      "outputs": [
        {
          "output_type": "stream",
          "name": "stdout",
          "text": [
            "[1] 615.7522\n"
          ]
        }
      ]
    },
    {
      "cell_type": "code",
      "source": [
        "#8 volume of a cylinder\n",
        "r <-6 #radius\n",
        "h <-12 #height\n",
        "v <-pi*r^2*h\n",
        "print(v)"
      ],
      "metadata": {
        "colab": {
          "base_uri": "https://localhost:8080/"
        },
        "id": "HfvQf7Dk6f5I",
        "outputId": "4beb357c-54c7-419d-e1d3-124e6aa33802"
      },
      "execution_count": null,
      "outputs": [
        {
          "output_type": "stream",
          "name": "stdout",
          "text": [
            "[1] 1357.168\n"
          ]
        }
      ]
    },
    {
      "cell_type": "code",
      "source": [
        "#9 perimeter of rectangle\n",
        "L <- 8\n",
        "W <- 5\n",
        "p <- 2*(L+W)\n",
        "print(p)"
      ],
      "metadata": {
        "colab": {
          "base_uri": "https://localhost:8080/"
        },
        "id": "G9dhQy1W7HFE",
        "outputId": "2caa1a8c-8fd1-4efa-96ae-eb27679707a6"
      },
      "execution_count": null,
      "outputs": [
        {
          "output_type": "stream",
          "name": "stdout",
          "text": [
            "[1] 26\n"
          ]
        }
      ]
    },
    {
      "cell_type": "code",
      "source": [
        "#mean\n",
        "a <- c(5, 3, 8, 6, 4)\n",
        "b <- c(6, 3, 9, 10, 1)\n",
        "result <- mean(a)\n",
        "result2 <- mean(b)\n",
        "print (result)\n",
        "print (result2)"
      ],
      "metadata": {
        "colab": {
          "base_uri": "https://localhost:8080/"
        },
        "id": "jkGUpBw17r3e",
        "outputId": "5f7379c7-8e52-4ba8-c3ed-6bb27828ad4f"
      },
      "execution_count": null,
      "outputs": [
        {
          "output_type": "stream",
          "name": "stdout",
          "text": [
            "[1] 5.2\n",
            "[1] 5.8\n"
          ]
        }
      ]
    }
  ]
}