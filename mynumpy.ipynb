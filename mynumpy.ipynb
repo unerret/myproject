{
  "nbformat": 4,
  "nbformat_minor": 0,
  "metadata": {
    "colab": {
      "provenance": [],
      "include_colab_link": true
    },
    "kernelspec": {
      "name": "python3",
      "display_name": "Python 3"
    },
    "language_info": {
      "name": "python"
    }
  },
  "cells": [
    {
      "cell_type": "markdown",
      "metadata": {
        "id": "view-in-github",
        "colab_type": "text"
      },
      "source": [
        "<a href=\"https://colab.research.google.com/github/unerret/myproject/blob/main/mynumpy.ipynb\" target=\"_parent\"><img src=\"https://colab.research.google.com/assets/colab-badge.svg\" alt=\"Open In Colab\"/></a>"
      ]
    },
    {
      "cell_type": "code",
      "execution_count": null,
      "metadata": {
        "colab": {
          "base_uri": "https://localhost:8080/"
        },
        "id": "ogPzPfaOcZgj",
        "outputId": "581d5b1a-93df-473d-f4db-3c2738738a7b"
      },
      "outputs": [
        {
          "output_type": "stream",
          "name": "stdout",
          "text": [
            "Requirement already satisfied: numpy in /usr/local/lib/python3.10/dist-packages (1.26.4)\n"
          ]
        }
      ],
      "source": [
        "!pip install numpy"
      ]
    },
    {
      "cell_type": "code",
      "source": [
        "import numpy as np"
      ],
      "metadata": {
        "id": "9MXrsjDXghhT"
      },
      "execution_count": null,
      "outputs": []
    },
    {
      "cell_type": "markdown",
      "source": [
        "# CALCULATING MEAN AND VARIANCE USING NUMPY"
      ],
      "metadata": {
        "id": "b5KLvhj7grgP"
      }
    },
    {
      "cell_type": "code",
      "source": [
        "data = np.array([20,30,50,80])\n",
        "# print(data)\n",
        "print(f\"The mean is {np.mean(data)}\")\n",
        "print(f\"The variance is {np.var(data)}\")\n",
        "print(f\"The standard deviation is {np.std(data)}\")\n",
        "print(f\"The square root of 81 is {np.sqrt(81)}\")\n",
        "# print(np.mean(data))\n"
      ],
      "metadata": {
        "colab": {
          "base_uri": "https://localhost:8080/"
        },
        "id": "dpeWgTX1gypu",
        "outputId": "e86bdc97-24ec-4e06-b1b5-bf1275507edc"
      },
      "execution_count": null,
      "outputs": [
        {
          "output_type": "stream",
          "name": "stdout",
          "text": [
            "The mean is 45.0\n",
            "The variance is 525.0\n",
            "The standard deviation is 22.9128784747792\n",
            "The square root of 81 is 9.0\n"
          ]
        }
      ]
    },
    {
      "cell_type": "code",
      "source": [
        "sample1 = np.array([20,30,40,50,60,70])\n",
        "sample2 = np.array([10,20,30,40,80,100])\n",
        "sample3 = np.array([20,100,50,70,150,200])\n",
        "\n",
        "mean1 = np.mean(sample1)\n",
        "mean2 = np.mean(sample2)\n",
        "mean3 = np.mean(sample3)\n",
        "\n",
        "grandsample = [mean1,mean2,mean3]\n",
        "grandmean = np.mean(grandsample)\n",
        "grandvariance = np.var(grandsample)\n",
        "grandstd = np.std(grandsample)\n",
        "se = grandstd / np.sqrt(3)\n",
        "\n",
        "print(f\"Sample1 mean is {mean1}\")\n",
        "print(f\"Sample2 mean is {mean2}\")\n",
        "print(f\"Sample3 mean is {mean3}\")\n",
        "print(f\"GRAND mean is {grandmean}\")\n",
        "print(f\"GRAND variance is {grandvariance}\")\n",
        "print(f\"GRAND standard deviation is {grandstd}\")\n",
        "print(f\"STANDARD ERROR IS  {se}\")\n",
        "\n",
        "\n",
        "\n"
      ],
      "metadata": {
        "colab": {
          "base_uri": "https://localhost:8080/"
        },
        "id": "GIWDb3APwiuE",
        "outputId": "75c1b482-44e4-4cd4-fb3b-3824bc51b60c"
      },
      "execution_count": null,
      "outputs": [
        {
          "output_type": "stream",
          "name": "stdout",
          "text": [
            "Sample1 mean is 45.0\n",
            "Sample2 mean is 46.666666666666664\n",
            "Sample3 mean is 98.33333333333333\n",
            "GRAND mean is 63.333333333333336\n",
            "GRAND variance is 612.9629629629629\n",
            "GRAND standard deviation is 24.758088839063547\n",
            "STANDARD ERROR IS  14.294089255854008\n"
          ]
        }
      ]
    },
    {
      "cell_type": "markdown",
      "source": [
        "# ASSIGNMENT\n"
      ],
      "metadata": {
        "id": "-z3rfNygwIgl"
      }
    },
    {
      "cell_type": "code",
      "source": [
        "# Question 1: Create a 3x3 matrix with values ranging from 0 to 8.\n",
        "# Question 2: Extract all even numbers from a given array.\n",
        "# Question 3: Calculate the dot product of two vectors.\n",
        "# Question 4: Create a 5x5 identity matrix.\n",
        "# Question 5: Calculate the standard deviation of a given array.\n",
        "# Question 6: Create a 3x3x3 3D array with random values.\n",
        "# Question 7: Calculate the determinant of a given matrix."
      ],
      "metadata": {
        "colab": {
          "base_uri": "https://localhost:8080/",
          "height": 106
        },
        "id": "yTDpo6t0wL89",
        "outputId": "2639ead3-147a-4f11-d904-dddd00246dc0"
      },
      "execution_count": null,
      "outputs": [
        {
          "output_type": "error",
          "ename": "SyntaxError",
          "evalue": "invalid decimal literal (<ipython-input-1-0716ae34dc5c>, line 1)",
          "traceback": [
            "\u001b[0;36m  File \u001b[0;32m\"<ipython-input-1-0716ae34dc5c>\"\u001b[0;36m, line \u001b[0;32m1\u001b[0m\n\u001b[0;31m    Question 1: Create a 3x3 matrix with values ranging from 0 to 8.\u001b[0m\n\u001b[0m                         ^\u001b[0m\n\u001b[0;31mSyntaxError\u001b[0m\u001b[0;31m:\u001b[0m invalid decimal literal\n"
          ]
        }
      ]
    }
  ]
}