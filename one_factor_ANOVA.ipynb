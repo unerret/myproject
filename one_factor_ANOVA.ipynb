{
  "nbformat": 4,
  "nbformat_minor": 0,
  "metadata": {
    "colab": {
      "provenance": [],
      "authorship_tag": "ABX9TyMUkOikoDgrgbfVydiy5rOf",
      "include_colab_link": true
    },
    "kernelspec": {
      "name": "python3",
      "display_name": "Python 3"
    },
    "language_info": {
      "name": "python"
    }
  },
  "cells": [
    {
      "cell_type": "markdown",
      "metadata": {
        "id": "view-in-github",
        "colab_type": "text"
      },
      "source": [
        "<a href=\"https://colab.research.google.com/github/unerret/myproject/blob/main/one_factor_ANOVA.ipynb\" target=\"_parent\"><img src=\"https://colab.research.google.com/assets/colab-badge.svg\" alt=\"Open In Colab\"/></a>"
      ]
    },
    {
      "cell_type": "code",
      "execution_count": null,
      "metadata": {
        "colab": {
          "base_uri": "https://localhost:8080/"
        },
        "id": "RTKRdT9j8781",
        "outputId": "7d19a18f-2908-4efd-a09f-b77de4bbd7fe"
      },
      "outputs": [
        {
          "output_type": "stream",
          "name": "stdout",
          "text": [
            "Requirement already satisfied: scipy in /usr/local/lib/python3.10/dist-packages (1.13.1)\n",
            "Requirement already satisfied: numpy<2.3,>=1.22.4 in /usr/local/lib/python3.10/dist-packages (from scipy) (1.26.4)\n",
            "Requirement already satisfied: numpy in /usr/local/lib/python3.10/dist-packages (1.26.4)\n",
            "Requirement already satisfied: matplotlib in /usr/local/lib/python3.10/dist-packages (3.7.1)\n",
            "Requirement already satisfied: contourpy>=1.0.1 in /usr/local/lib/python3.10/dist-packages (from matplotlib) (1.3.0)\n",
            "Requirement already satisfied: cycler>=0.10 in /usr/local/lib/python3.10/dist-packages (from matplotlib) (0.12.1)\n",
            "Requirement already satisfied: fonttools>=4.22.0 in /usr/local/lib/python3.10/dist-packages (from matplotlib) (4.54.1)\n",
            "Requirement already satisfied: kiwisolver>=1.0.1 in /usr/local/lib/python3.10/dist-packages (from matplotlib) (1.4.7)\n",
            "Requirement already satisfied: numpy>=1.20 in /usr/local/lib/python3.10/dist-packages (from matplotlib) (1.26.4)\n",
            "Requirement already satisfied: packaging>=20.0 in /usr/local/lib/python3.10/dist-packages (from matplotlib) (24.1)\n",
            "Requirement already satisfied: pillow>=6.2.0 in /usr/local/lib/python3.10/dist-packages (from matplotlib) (10.4.0)\n",
            "Requirement already satisfied: pyparsing>=2.3.1 in /usr/local/lib/python3.10/dist-packages (from matplotlib) (3.1.4)\n",
            "Requirement already satisfied: python-dateutil>=2.7 in /usr/local/lib/python3.10/dist-packages (from matplotlib) (2.8.2)\n",
            "Requirement already satisfied: six>=1.5 in /usr/local/lib/python3.10/dist-packages (from python-dateutil>=2.7->matplotlib) (1.16.0)\n"
          ]
        }
      ],
      "source": [
        "!pip install scipy\n",
        "!pip install numpy\n",
        "!pip install matplotlib"
      ]
    },
    {
      "cell_type": "code",
      "source": [
        "import scipy as sc\n",
        "import numpy as np\n",
        "import matplotlib.pyplot as plt"
      ],
      "metadata": {
        "id": "PkgrHHv7-Apr"
      },
      "execution_count": null,
      "outputs": []
    },
    {
      "cell_type": "code",
      "source": [
        "dietA = np.array([75,78,74,80,73])\n",
        "dietB = np.array([82,79,85,83,81])\n",
        "dietC = np.array([90,92,91,88,87])\n",
        "f_stat, p_value = sc.stats.f_oneway(dietA,dietB,dietC)\n",
        "print(f_stat)\n",
        "print(p_value)\n",
        "\n",
        "if (p_value<0.05):\n",
        "  print(\"Reject null hypothesis\")\n",
        "else:\n",
        "  print(\"Accept null hypothesis\")"
      ],
      "metadata": {
        "colab": {
          "base_uri": "https://localhost:8080/"
        },
        "id": "sPoKnYg2-Rkw",
        "outputId": "523d94dc-2842-4de7-bd97-458d0d915952"
      },
      "execution_count": null,
      "outputs": [
        {
          "output_type": "stream",
          "name": "stdout",
          "text": [
            "39.14606741573031\n",
            "5.510461185975025e-06\n",
            "Reject null hypothesis\n"
          ]
        }
      ]
    },
    {
      "cell_type": "code",
      "source": [
        "TechniqueA = np.array([85, 87, 89, 90, 88])\n",
        "TechniqueB = np.array([78, 80, 79, 77, 76])\n",
        "TechniqueC = np.array([91, 92, 93, 90, 89])\n",
        "f_stat, p_value = sc.stats.f_oneway(TechniqueA,TechniqueB,TechniqueC)\n",
        "print(f_stat)\n",
        "print(p_value)\n",
        "\n",
        "if (p_value<0.05):\n",
        "  print(\"Reject null hypothesis\")\n",
        "else:\n",
        "  print(\"Accept null hypothesis\")"
      ],
      "metadata": {
        "colab": {
          "base_uri": "https://localhost:8080/"
        },
        "id": "FOcc_i16BmDY",
        "outputId": "b6d3b6fb-8f24-4e29-80c5-0dffb2010ed2"
      },
      "execution_count": null,
      "outputs": [
        {
          "output_type": "stream",
          "name": "stdout",
          "text": [
            "79.10344827586192\n",
            "1.228074058454064e-07\n",
            "Reject null hypothesis\n"
          ]
        }
      ]
    },
    {
      "cell_type": "code",
      "source": [
        "StrategyA = np.array([200, 210, 190, 205, 195])\n",
        "StrategyB = np.array ([220, 225, 215, 230, 210])\n",
        "StrategyC = np.array([180, 185, 175, 190, 195])\n",
        "f_stat, p_value = sc.stats.f_oneway(StrategyA,StrategyB,StrategyC)\n",
        "print(f_stat)\n",
        "print(p_value)\n",
        "\n",
        "if (p_value<0.05):\n",
        "  print(\"Reject null hypothesis\")\n",
        "else:\n",
        "  print(\"Accept null hypothesis\")"
      ],
      "metadata": {
        "colab": {
          "base_uri": "https://localhost:8080/"
        },
        "id": "iXCdD5CBCVGr",
        "outputId": "2c615545-b31f-41e6-b244-7a10ce9a1c3b"
      },
      "execution_count": null,
      "outputs": [
        {
          "output_type": "stream",
          "name": "stdout",
          "text": [
            "24.66666666666665\n",
            "5.6092922338582576e-05\n",
            "Reject null hypothesis\n"
          ]
        }
      ]
    }
  ]
}